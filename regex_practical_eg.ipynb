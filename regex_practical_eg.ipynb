{
 "cells": [
  {
   "cell_type": "code",
   "execution_count": 1,
   "id": "091639ab",
   "metadata": {},
   "outputs": [],
   "source": [
    "import pandas as pd\n",
    "import numpy as np\n",
    "import re\n",
    "import warnings\n",
    "warnings.filterwarnings(\"ignore\")"
   ]
  },
  {
   "cell_type": "code",
   "execution_count": 5,
   "id": "ab25cb8e",
   "metadata": {},
   "outputs": [
    {
     "data": {
      "text/html": [
       "<div>\n",
       "<style scoped>\n",
       "    .dataframe tbody tr th:only-of-type {\n",
       "        vertical-align: middle;\n",
       "    }\n",
       "\n",
       "    .dataframe tbody tr th {\n",
       "        vertical-align: top;\n",
       "    }\n",
       "\n",
       "    .dataframe thead th {\n",
       "        text-align: right;\n",
       "    }\n",
       "</style>\n",
       "<table border=\"1\" class=\"dataframe\">\n",
       "  <thead>\n",
       "    <tr style=\"text-align: right;\">\n",
       "      <th></th>\n",
       "      <th>description</th>\n",
       "    </tr>\n",
       "  </thead>\n",
       "  <tbody>\n",
       "    <tr>\n",
       "      <th>0</th>\n",
       "      <td>{\"raw\":\"na\",\"transaction_type\":[]}</td>\n",
       "    </tr>\n",
       "    <tr>\n",
       "      <th>1</th>\n",
       "      <td>{\"raw\":\"na\",\"transaction_type\":[{\"CASHBACK\":52...</td>\n",
       "    </tr>\n",
       "    <tr>\n",
       "      <th>2</th>\n",
       "      <td>{\"raw\":\"500 referral point  is used out of 500...</td>\n",
       "    </tr>\n",
       "    <tr>\n",
       "      <th>3</th>\n",
       "      <td>{\"raw\":\"500 referral point  is used out of 500...</td>\n",
       "    </tr>\n",
       "    <tr>\n",
       "      <th>4</th>\n",
       "      <td>{\"raw\":\"500 referral point  is used out of 500...</td>\n",
       "    </tr>\n",
       "  </tbody>\n",
       "</table>\n",
       "</div>"
      ],
      "text/plain": [
       "                                         description\n",
       "0                 {\"raw\":\"na\",\"transaction_type\":[]}\n",
       "1  {\"raw\":\"na\",\"transaction_type\":[{\"CASHBACK\":52...\n",
       "2  {\"raw\":\"500 referral point  is used out of 500...\n",
       "3  {\"raw\":\"500 referral point  is used out of 500...\n",
       "4  {\"raw\":\"500 referral point  is used out of 500..."
      ]
     },
     "execution_count": 5,
     "metadata": {},
     "output_type": "execute_result"
    }
   ],
   "source": [
    "cn = pd.read_csv('course_name.csv')\n",
    "cn.head()"
   ]
  },
  {
   "cell_type": "code",
   "execution_count": 12,
   "id": "02752baa",
   "metadata": {},
   "outputs": [],
   "source": [
    "cn['description'] = cn['description'].astype(str)"
   ]
  },
  {
   "cell_type": "code",
   "execution_count": 9,
   "id": "435ecb1d",
   "metadata": {},
   "outputs": [
    {
     "data": {
      "text/html": [
       "<div>\n",
       "<style scoped>\n",
       "    .dataframe tbody tr th:only-of-type {\n",
       "        vertical-align: middle;\n",
       "    }\n",
       "\n",
       "    .dataframe tbody tr th {\n",
       "        vertical-align: top;\n",
       "    }\n",
       "\n",
       "    .dataframe thead th {\n",
       "        text-align: right;\n",
       "    }\n",
       "</style>\n",
       "<table border=\"1\" class=\"dataframe\">\n",
       "  <thead>\n",
       "    <tr style=\"text-align: right;\">\n",
       "      <th></th>\n",
       "      <th>description</th>\n",
       "    </tr>\n",
       "  </thead>\n",
       "  <tbody>\n",
       "    <tr>\n",
       "      <th>0</th>\n",
       "      <td>{\"raw\":\"na\",\"transaction_type\":[]}</td>\n",
       "    </tr>\n",
       "    <tr>\n",
       "      <th>1</th>\n",
       "      <td>{\"raw\":\"na\",\"transaction_type\":[{\"CASHBACK\":52...</td>\n",
       "    </tr>\n",
       "    <tr>\n",
       "      <th>2</th>\n",
       "      <td>{\"raw\":\"500 referral point  is used out of 500...</td>\n",
       "    </tr>\n",
       "    <tr>\n",
       "      <th>3</th>\n",
       "      <td>{\"raw\":\"500 referral point  is used out of 500...</td>\n",
       "    </tr>\n",
       "    <tr>\n",
       "      <th>4</th>\n",
       "      <td>{\"raw\":\"500 referral point  is used out of 500...</td>\n",
       "    </tr>\n",
       "    <tr>\n",
       "      <th>...</th>\n",
       "      <td>...</td>\n",
       "    </tr>\n",
       "    <tr>\n",
       "      <th>2511</th>\n",
       "      <td>{\"raw\":\"2000 referral point  is used out of 20...</td>\n",
       "    </tr>\n",
       "    <tr>\n",
       "      <th>2512</th>\n",
       "      <td>{\"raw\":\"2700 referral point  is used out of 60...</td>\n",
       "    </tr>\n",
       "    <tr>\n",
       "      <th>2513</th>\n",
       "      <td>{\"raw\":\"2000 referral point  is used out of 20...</td>\n",
       "    </tr>\n",
       "    <tr>\n",
       "      <th>2514</th>\n",
       "      <td>{\"raw\":\"3300 referral point  is used out of 60...</td>\n",
       "    </tr>\n",
       "    <tr>\n",
       "      <th>2515</th>\n",
       "      <td>{\"raw\":\"-\",\"transaction_type\":[{\"BONUS\":2000},...</td>\n",
       "    </tr>\n",
       "  </tbody>\n",
       "</table>\n",
       "<p>2516 rows × 1 columns</p>\n",
       "</div>"
      ],
      "text/plain": [
       "                                            description\n",
       "0                    {\"raw\":\"na\",\"transaction_type\":[]}\n",
       "1     {\"raw\":\"na\",\"transaction_type\":[{\"CASHBACK\":52...\n",
       "2     {\"raw\":\"500 referral point  is used out of 500...\n",
       "3     {\"raw\":\"500 referral point  is used out of 500...\n",
       "4     {\"raw\":\"500 referral point  is used out of 500...\n",
       "...                                                 ...\n",
       "2511  {\"raw\":\"2000 referral point  is used out of 20...\n",
       "2512  {\"raw\":\"2700 referral point  is used out of 60...\n",
       "2513  {\"raw\":\"2000 referral point  is used out of 20...\n",
       "2514  {\"raw\":\"3300 referral point  is used out of 60...\n",
       "2515  {\"raw\":\"-\",\"transaction_type\":[{\"BONUS\":2000},...\n",
       "\n",
       "[2516 rows x 1 columns]"
      ]
     },
     "execution_count": 9,
     "metadata": {},
     "output_type": "execute_result"
    }
   ],
   "source": [
    "mystring = cn[['description']]\n",
    "mystring"
   ]
  },
  {
   "cell_type": "code",
   "execution_count": 14,
   "id": "af96889e",
   "metadata": {},
   "outputs": [
    {
     "ename": "AttributeError",
     "evalue": "'Series' object has no attribute 'partition'",
     "output_type": "error",
     "traceback": [
      "\u001b[1;31m---------------------------------------------------------------------------\u001b[0m",
      "\u001b[1;31mAttributeError\u001b[0m                            Traceback (most recent call last)",
      "\u001b[1;32mC:\\Users\\ADITYA~1\\AppData\\Local\\Temp/ipykernel_14340/868898164.py\u001b[0m in \u001b[0;36m<module>\u001b[1;34m\u001b[0m\n\u001b[0;32m      1\u001b[0m \u001b[0mkeyword\u001b[0m \u001b[1;33m=\u001b[0m \u001b[1;34m'course_name'\u001b[0m\u001b[1;33m\u001b[0m\u001b[1;33m\u001b[0m\u001b[0m\n\u001b[1;32m----> 2\u001b[1;33m \u001b[0mbefore_keyword\u001b[0m\u001b[1;33m,\u001b[0m \u001b[0mkeyword\u001b[0m\u001b[1;33m,\u001b[0m \u001b[0mafter_keyword\u001b[0m \u001b[1;33m=\u001b[0m \u001b[0mcn\u001b[0m\u001b[1;33m[\u001b[0m\u001b[1;34m'description'\u001b[0m\u001b[1;33m]\u001b[0m\u001b[1;33m.\u001b[0m\u001b[0mpartition\u001b[0m\u001b[1;33m(\u001b[0m\u001b[0mkeyword\u001b[0m\u001b[1;33m)\u001b[0m\u001b[1;33m\u001b[0m\u001b[1;33m\u001b[0m\u001b[0m\n\u001b[0m\u001b[0;32m      3\u001b[0m \u001b[0mbefore_keyword\u001b[0m\u001b[1;33m\u001b[0m\u001b[1;33m\u001b[0m\u001b[0m\n",
      "\u001b[1;32m~\\anaconda3\\lib\\site-packages\\pandas\\core\\generic.py\u001b[0m in \u001b[0;36m__getattr__\u001b[1;34m(self, name)\u001b[0m\n\u001b[0;32m   5485\u001b[0m         ):\n\u001b[0;32m   5486\u001b[0m             \u001b[1;32mreturn\u001b[0m \u001b[0mself\u001b[0m\u001b[1;33m[\u001b[0m\u001b[0mname\u001b[0m\u001b[1;33m]\u001b[0m\u001b[1;33m\u001b[0m\u001b[1;33m\u001b[0m\u001b[0m\n\u001b[1;32m-> 5487\u001b[1;33m         \u001b[1;32mreturn\u001b[0m \u001b[0mobject\u001b[0m\u001b[1;33m.\u001b[0m\u001b[0m__getattribute__\u001b[0m\u001b[1;33m(\u001b[0m\u001b[0mself\u001b[0m\u001b[1;33m,\u001b[0m \u001b[0mname\u001b[0m\u001b[1;33m)\u001b[0m\u001b[1;33m\u001b[0m\u001b[1;33m\u001b[0m\u001b[0m\n\u001b[0m\u001b[0;32m   5488\u001b[0m \u001b[1;33m\u001b[0m\u001b[0m\n\u001b[0;32m   5489\u001b[0m     \u001b[1;32mdef\u001b[0m \u001b[0m__setattr__\u001b[0m\u001b[1;33m(\u001b[0m\u001b[0mself\u001b[0m\u001b[1;33m,\u001b[0m \u001b[0mname\u001b[0m\u001b[1;33m:\u001b[0m \u001b[0mstr\u001b[0m\u001b[1;33m,\u001b[0m \u001b[0mvalue\u001b[0m\u001b[1;33m)\u001b[0m \u001b[1;33m->\u001b[0m \u001b[1;32mNone\u001b[0m\u001b[1;33m:\u001b[0m\u001b[1;33m\u001b[0m\u001b[1;33m\u001b[0m\u001b[0m\n",
      "\u001b[1;31mAttributeError\u001b[0m: 'Series' object has no attribute 'partition'"
     ]
    }
   ],
   "source": [
    "keyword = 'course_name'\n",
    "before_keyword, keyword, after_keyword = cn['description'].partition(keyword)\n",
    "before_keyword"
   ]
  },
  {
   "cell_type": "code",
   "execution_count": 15,
   "id": "6770cc16",
   "metadata": {},
   "outputs": [
    {
     "name": "stdout",
     "output_type": "stream",
     "text": [
      "                                            description WordsBefore  \\\n",
      "0                    {\"raw\":\"na\",\"transaction_type\":[]}         NaN   \n",
      "1     {\"raw\":\"na\",\"transaction_type\":[{\"CASHBACK\":52...         NaN   \n",
      "2     {\"raw\":\"500 referral point  is used out of 500...         NaN   \n",
      "3     {\"raw\":\"500 referral point  is used out of 500...         NaN   \n",
      "4     {\"raw\":\"500 referral point  is used out of 500...         NaN   \n",
      "...                                                 ...         ...   \n",
      "2511  {\"raw\":\"2000 referral point  is used out of 20...         NaN   \n",
      "2512  {\"raw\":\"2700 referral point  is used out of 60...         NaN   \n",
      "2513  {\"raw\":\"2000 referral point  is used out of 20...         NaN   \n",
      "2514  {\"raw\":\"3300 referral point  is used out of 60...         NaN   \n",
      "2515  {\"raw\":\"-\",\"transaction_type\":[{\"BONUS\":2000},...         NaN   \n",
      "\n",
      "                                             WordsAfter  \n",
      "0                                                   NaN  \n",
      "1                                                   NaN  \n",
      "2     \":\"Microsoft Power BI Certification Training C...  \n",
      "3     \":\"Selenium Certification Training Course\",\"tr...  \n",
      "4     \":\"Tableau Certification Training Course\",\"tra...  \n",
      "...                                                 ...  \n",
      "2511        \":\"Certified Ethical Hacking Course - CEH v  \n",
      "2512  \":\"Angular Certification Training Course\",\"tra...  \n",
      "2513  \":\"Azure Data Engineer Associate Certification...  \n",
      "2514  \":\"DevOps Certification Training Course\",\"tran...  \n",
      "2515                                                NaN  \n",
      "\n",
      "[2516 rows x 3 columns]\n"
     ]
    }
   ],
   "source": [
    "df=cn.assign(WordsBefore=cn.description.str.extract('(^\\D+(?=\"course_name\":\"))'),\n",
    "WordsAfter=cn.description.str.extract('((?<=\"course_name\":\")\\D+)'))\n",
    "print(df)"
   ]
  },
  {
   "cell_type": "code",
   "execution_count": 18,
   "id": "8a9cf5ca",
   "metadata": {},
   "outputs": [],
   "source": [
    "df.to_csv('c_name_new.csv')"
   ]
  },
  {
   "cell_type": "code",
   "execution_count": 22,
   "id": "6d633bd8",
   "metadata": {},
   "outputs": [
    {
     "name": "stdout",
     "output_type": "stream",
     "text": [
      "                                            description WordsBefore  \\\n",
      "0                    {\"raw\":\"na\",\"transaction_type\":[]}         NaN   \n",
      "1     {\"raw\":\"na\",\"transaction_type\":[{\"CASHBACK\":52...         NaN   \n",
      "2     {\"raw\":\"500 referral point  is used out of 500...         NaN   \n",
      "3     {\"raw\":\"500 referral point  is used out of 500...         NaN   \n",
      "4     {\"raw\":\"500 referral point  is used out of 500...         NaN   \n",
      "...                                                 ...         ...   \n",
      "2511  {\"raw\":\"2000 referral point  is used out of 20...         NaN   \n",
      "2512  {\"raw\":\"2700 referral point  is used out of 60...         NaN   \n",
      "2513  {\"raw\":\"2000 referral point  is used out of 20...         NaN   \n",
      "2514  {\"raw\":\"3300 referral point  is used out of 60...         NaN   \n",
      "2515  {\"raw\":\"-\",\"transaction_type\":[{\"BONUS\":2000},...         NaN   \n",
      "\n",
      "                                             WordsAfter  \n",
      "0                                                   NaN  \n",
      "1                                                   NaN  \n",
      "2     Microsoft Power BI Certification Training Cour...  \n",
      "3     Selenium Certification Training Course\",\"trans...  \n",
      "4     Tableau Certification Training Course\",\"transa...  \n",
      "...                                                 ...  \n",
      "2511           Certified Ethical Hacking Course - CEH v  \n",
      "2512  Angular Certification Training Course\",\"transa...  \n",
      "2513  Azure Data Engineer Associate Certification Co...  \n",
      "2514  DevOps Certification Training Course\",\"transac...  \n",
      "2515                                                NaN  \n",
      "\n",
      "[2516 rows x 3 columns]\n"
     ]
    }
   ],
   "source": [
    "df2=cn.assign(WordsBefore=cn.description.str.extract('(^\\D+(?=\"course_name\":\"))'),\n",
    "WordsAfter=cn.description.str.extract('((?<=\"course_name\":\")\\D+)'))\n",
    "print(df2)"
   ]
  },
  {
   "cell_type": "code",
   "execution_count": 23,
   "id": "b6e1da23",
   "metadata": {},
   "outputs": [],
   "source": [
    "df2.to_csv('c_name_new2.csv')"
   ]
  },
  {
   "cell_type": "code",
   "execution_count": 34,
   "id": "e673de94",
   "metadata": {},
   "outputs": [
    {
     "name": "stdout",
     "output_type": "stream",
     "text": [
      "                                            description WordsBefore  \\\n",
      "0                    {\"raw\":\"na\",\"transaction_type\":[]}         NaN   \n",
      "1     {\"raw\":\"na\",\"transaction_type\":[{\"CASHBACK\":52...         NaN   \n",
      "2     {\"raw\":\"500 referral point  is used out of 500...         NaN   \n",
      "3     {\"raw\":\"500 referral point  is used out of 500...         NaN   \n",
      "4     {\"raw\":\"500 referral point  is used out of 500...         NaN   \n",
      "...                                                 ...         ...   \n",
      "2511  {\"raw\":\"2000 referral point  is used out of 20...         NaN   \n",
      "2512  {\"raw\":\"2700 referral point  is used out of 60...         NaN   \n",
      "2513  {\"raw\":\"2000 referral point  is used out of 20...         NaN   \n",
      "2514  {\"raw\":\"3300 referral point  is used out of 60...         NaN   \n",
      "2515  {\"raw\":\"-\",\"transaction_type\":[{\"BONUS\":2000},...         NaN   \n",
      "\n",
      "                                             WordsAfter  \n",
      "0                                                   NaN  \n",
      "1                                                   NaN  \n",
      "2     \":\"Microsoft Power BI Certification Training C...  \n",
      "3     \":\"Selenium Certification Training Course\",\"tr...  \n",
      "4     \":\"Tableau Certification Training Course\",\"tra...  \n",
      "...                                                 ...  \n",
      "2511  \":\"Certified Ethical Hacking Course - CEH v12\"...  \n",
      "2512  \":\"Angular Certification Training Course\",\"tra...  \n",
      "2513  \":\"Azure Data Engineer Associate Certification...  \n",
      "2514  \":\"DevOps Certification Training Course\",\"tran...  \n",
      "2515                                                NaN  \n",
      "\n",
      "[2516 rows x 3 columns]\n"
     ]
    }
   ],
   "source": [
    "df3=cn.assign(WordsBefore=cn.description.str.extract('(^\\D+(?=course_name))'),\n",
    "WordsAfter=cn.description.str.extract('((?<=\"course_name)\\D+.*)'))\n",
    "print(df3)"
   ]
  },
  {
   "cell_type": "code",
   "execution_count": 35,
   "id": "e19ac160",
   "metadata": {},
   "outputs": [],
   "source": [
    "df3.to_csv('c_name_new3.csv')"
   ]
  },
  {
   "cell_type": "code",
   "execution_count": null,
   "id": "b9d2770e",
   "metadata": {},
   "outputs": [],
   "source": []
  }
 ],
 "metadata": {
  "kernelspec": {
   "display_name": "Python 3",
   "language": "python",
   "name": "python3"
  },
  "language_info": {
   "codemirror_mode": {
    "name": "ipython",
    "version": 3
   },
   "file_extension": ".py",
   "mimetype": "text/x-python",
   "name": "python",
   "nbconvert_exporter": "python",
   "pygments_lexer": "ipython3",
   "version": "3.9.0 (default, Nov 15 2020, 08:30:55) [MSC v.1916 64 bit (AMD64)]"
  },
  "vscode": {
   "interpreter": {
    "hash": "5049c1f495095b68be225fc6765219a873e0de37ca9ea99d758ef29d8bda063d"
   }
  }
 },
 "nbformat": 4,
 "nbformat_minor": 5
}
